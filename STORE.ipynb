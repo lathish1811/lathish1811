{
 "cells": [
  {
   "cell_type": "code",
   "execution_count": 40,
   "id": "6542f565",
   "metadata": {},
   "outputs": [
    {
     "name": "stdout",
     "output_type": "stream",
     "text": [
      "       a  b  c\n",
      "one    1  2  3\n",
      "two    4  5  6\n",
      "three  7  8  9\n"
     ]
    }
   ],
   "source": [
    "import pandas as pd\n",
    "df=pd.DataFrame([[1,2,3],[4,5,6],[7,8,9]],index=['one','two','three'],columns=['a','b','c'])\n",
    "print(df)"
   ]
  },
  {
   "cell_type": "code",
   "execution_count": 42,
   "id": "1edf048f",
   "metadata": {},
   "outputs": [],
   "source": [
    "df.to_excel(r\"C:\\Users\\REC\\Desktop\\aravind_excel1.xlsx\")\n",
    "df.to_excel(r\"C:\\Users\\REC\\Desktop\\aravind_excel2.xlsx\")"
   ]
  },
  {
   "cell_type": "code",
   "execution_count": 43,
   "id": "e6c18460",
   "metadata": {},
   "outputs": [
    {
     "name": "stdout",
     "output_type": "stream",
     "text": [
      "       x   y   z\n",
      "four  10  20  30\n",
      "five  40  50  60\n",
      "six   70  80  90\n"
     ]
    }
   ],
   "source": [
    "df2=pd.DataFrame([[10,20,30],[40,50,60],[70,80,90]],index=['four','five','six'],columns=['x','y','z'])\n",
    "print(df2)"
   ]
  },
  {
   "cell_type": "code",
   "execution_count": 47,
   "id": "736718bf",
   "metadata": {},
   "outputs": [],
   "source": [
    "df2.to_excel(r\"C:\\Users\\REC\\Desktop\\aravind_excel3.xlsx\",sheet_name=\"marks\")"
   ]
  },
  {
   "cell_type": "code",
   "execution_count": 50,
   "id": "7f533416",
   "metadata": {},
   "outputs": [],
   "source": [
    "x=pd.read_excel(r\"C:\\Users\\REC\\Desktop\\aravind_excel1.xlsx\")\n",
    "y=pd.read_excel(r\"C:\\Users\\REC\\Desktop\\aravind_excel3.xlsx\")\n",
    "#z=x.merge(y)\n",
    "z=pd.concat([x,y])\n",
    "z.to_excel(r\"C:\\Users\\REC\\Desktop\\230901004 PPML\\aravind_excel4.xlsx\")"
   ]
  },
  {
   "cell_type": "code",
   "execution_count": 55,
   "id": "f846e62e",
   "metadata": {},
   "outputs": [
    {
     "name": "stdout",
     "output_type": "stream",
     "text": [
      "  Unnamed: 0    a    b    c     x     y     z\n",
      "0       four  NaN  NaN  NaN  10.0  20.0  30.0\n",
      "1       five  NaN  NaN  NaN  40.0  50.0  60.0\n",
      "2        six  NaN  NaN  NaN  70.0  80.0  90.0\n",
      "0        one  1.0  2.0  3.0   NaN   NaN   NaN\n",
      "1        two  4.0  5.0  6.0   NaN   NaN   NaN\n",
      "2      three  7.0  8.0  9.0   NaN   NaN   NaN\n",
      "  Unnamed: 0  a  b  c\n",
      "0        one  1  2  3\n",
      "1        two  4  5  6\n",
      "2      three  7  8  9\n",
      "['Unnamed: 0', 'a', 'b', 'c']\n",
      "3\n"
     ]
    }
   ],
   "source": [
    "df3=z.sort_values(['x'])\n",
    "print(df3)\n",
    "df3.to_excel(r\"C:\\Users\\REC\\Desktop\\230901004 PPML\\aravind_excel4.xlsx\")\n",
    "df3=pd.read_excel(r\"C:\\Users\\REC\\Desktop\\aravind_excel1.xlsx\")\n",
    "print(df3)\n",
    "print(list(df3))\n",
    "print(format(len(df3)))\n"
   ]
  }
 ],
 "metadata": {
  "kernelspec": {
   "display_name": "Python 3 (ipykernel)",
   "language": "python",
   "name": "python3"
  },
  "language_info": {
   "codemirror_mode": {
    "name": "ipython",
    "version": 3
   },
   "file_extension": ".py",
   "mimetype": "text/x-python",
   "name": "python",
   "nbconvert_exporter": "python",
   "pygments_lexer": "ipython3",
   "version": "3.11.3"
  }
 },
 "nbformat": 4,
 "nbformat_minor": 5
}
