{
 "cells": [
  {
   "cell_type": "code",
   "execution_count": 3,
   "id": "21c35298-d908-4a0c-802f-cf80560808e7",
   "metadata": {},
   "outputs": [
    {
     "name": "stdout",
     "output_type": "stream",
     "text": [
      "Original DataFrame:\n",
      "           Name  Age Gender Marks\n",
      "0          Sai   20      M    90\n",
      "1      Yuvasri   18      F    76\n",
      "2    Poovannan   19      M   NaN\n",
      "3    Sabharish   20      M    74\n",
      "4  Sangamithra   18      F    65\n",
      "5      Rithika   17      F   NaN\n",
      "6      Rubasri   19      F    71\n",
      "\n",
      "Replacing NaN with average marks:\n",
      "           Name  Age Gender      Marks\n",
      "0          Sai   20      M  90.000000\n",
      "1      Yuvasri   18      F  76.000000\n",
      "2    Poovannan   19      M  20.066667\n",
      "3    Sabharish   20      M  74.000000\n",
      "4  Sangamithra   18      F  65.000000\n",
      "5      Rithika   17      F  20.066667\n",
      "6      Rubasri   19      F  71.000000\n"
     ]
    },
    {
     "name": "stderr",
     "output_type": "stream",
     "text": [
      "/var/folders/xf/j_sxts057v1_8x_j8ll1m54c0000gp/T/ipykernel_1740/4257472846.py:15: FutureWarning: Downcasting behavior in `replace` is deprecated and will be removed in a future version. To retain the old behavior, explicitly call `result.infer_objects(copy=False)`. To opt-in to the future behavior, set `pd.set_option('future.no_silent_downcasting', True)`\n",
      "  df=df.replace(to_replace=\"NaN\",value=avg)\n"
     ]
    }
   ],
   "source": [
    "import pandas as pd\n",
    "data={'Name':['Sai','Yuvasri','Poovannan',\n",
    "'Sabharish','Sangamithra','Rithika','Rubasri'],\n",
    "'Age':[20,18,19,20,18,17,19],\n",
    "'Gender':['M','F','M','M','F','F','F'],\n",
    "'Marks':[90,76,'NaN',74,65,'NaN',71]}\n",
    "df=pd.DataFrame(data)\n",
    "print(\"Original DataFrame:\\n\",df)\n",
    "c=avg=0\n",
    "for ele in df['Marks']:\n",
    "     if str(ele).isnumeric():\n",
    "         c+=1\n",
    "         avg+=ele\n",
    "         avg/=c\n",
    "df=df.replace(to_replace=\"NaN\",value=avg)\n",
    "print(\"\\nReplacing NaN with average marks:\\n\",df)"
   ]
  },
  {
   "cell_type": "code",
   "execution_count": 4,
   "id": "449979ed-0106-4c68-8216-b4a2d39aa94d",
   "metadata": {},
   "outputs": [
    {
     "name": "stdout",
     "output_type": "stream",
     "text": [
      "\n",
      "Filtering and Dropping func:\n",
      "       Name Gender  Marks\n",
      "0      Sai      M   90.0\n",
      "1  Yuvasri      F   76.0\n"
     ]
    }
   ],
   "source": [
    "df=df[df['Marks']>=75]\n",
    "df=df.drop(['Age'],axis=1)\n",
    "print(\"\\nFiltering and Dropping func:\\n\",df)"
   ]
  },
  {
   "cell_type": "code",
   "execution_count": 5,
   "id": "641d050e-912e-4526-ba14-8c116c8b79c0",
   "metadata": {},
   "outputs": [
    {
     "name": "stdout",
     "output_type": "stream",
     "text": [
      "\n",
      "Original DataFrame 1:\n",
      "       Name subject_id  Marks_scored\n",
      "1      Sai       sub1            98\n",
      "2      Sub       sub2            95\n",
      "3      Poo       sub4            96\n",
      "4  Yuvasri       sub6            92\n",
      "5  Rithika       sub5            88\n",
      "\n",
      "Original DataFrame 2:\n",
      "           Name subject_id  Marks_scored\n",
      "1       Sanjay       sub2            86\n",
      "2  Sangamithra       sub4            95\n",
      "3      Rubasri       sub3            87\n",
      "4       Nikesh       sub6            99\n",
      "5     Somanath       sub5            91\n",
      "          Name subject_id  Marks_scored\n",
      "1          Sai       sub1            98\n",
      "2          Sub       sub2            95\n",
      "3          Poo       sub4            96\n",
      "4      Yuvasri       sub6            92\n",
      "5      Rithika       sub5            88\n",
      "1       Sanjay       sub2            86\n",
      "2  Sangamithra       sub4            95\n",
      "3      Rubasri       sub3            87\n",
      "4       Nikesh       sub6            99\n",
      "5     Somanath       sub5            91\n"
     ]
    }
   ],
   "source": [
    "one = pd.DataFrame({\n",
    "'Name':['Sai','Sub','Poo','Yuvasri','Rithika'],\n",
    "'subject_id':['sub1','sub2','sub4','sub6','sub5'],\n",
    "'Marks_scored':[98,95,96,92,88]},\n",
    "index=[1,2,3,4,5])\n",
    "two=pd.DataFrame({\n",
    "'Name':['Sanjay','Sangamithra','Rubasri','Nikesh','Somanath'],\n",
    "'subject_id':['sub2','sub4','sub3','sub6','sub5'],\n",
    "'Marks_scored':[86,95,87,99,91]},\n",
    "index=[1,2,3,4,5])\n",
    "print(\"\\nOriginal DataFrame 1:\\n\",one)\n",
    "print(\"\\nOriginal DataFrame 2:\\n\",two)\n",
    "print(pd.concat([one,two]))"
   ]
  },
  {
   "cell_type": "code",
   "execution_count": null,
   "id": "85371dc0-fac1-4475-b462-080aa849a704",
   "metadata": {},
   "outputs": [],
   "source": []
  }
 ],
 "metadata": {
  "kernelspec": {
   "display_name": "Python 3 (ipykernel)",
   "language": "python",
   "name": "python3"
  },
  "language_info": {
   "codemirror_mode": {
    "name": "ipython",
    "version": 3
   },
   "file_extension": ".py",
   "mimetype": "text/x-python",
   "name": "python",
   "nbconvert_exporter": "python",
   "pygments_lexer": "ipython3",
   "version": "3.12.7"
  }
 },
 "nbformat": 4,
 "nbformat_minor": 5
}
