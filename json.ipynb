{
 "cells": [
  {
   "cell_type": "code",
   "execution_count": 10,
   "id": "02512ede",
   "metadata": {},
   "outputs": [],
   "source": [
    "f=open(\"D:/sudhan.txt\",\"w\")\n",
    "f.write(\"wake up early\\n\")\n",
    "f.write(\"read daily\\n\")\n",
    "f.write(\"pray to god\\n\")\n",
    "f.close()"
   ]
  },
  {
   "cell_type": "code",
   "execution_count": 13,
   "id": "7377fe1e",
   "metadata": {},
   "outputs": [
    {
     "name": "stdout",
     "output_type": "stream",
     "text": [
      "wake up early\n",
      "\n",
      "read daily\n",
      "\n",
      "pray to god\n",
      "\n"
     ]
    }
   ],
   "source": [
    "a=open(\"D:/sudhan.txt\",\"r\")\n",
    "print(a.readline())\n",
    "print(a.readline())\n",
    "print(a.readline())\n",
    "a.close()\n"
   ]
  },
  {
   "cell_type": "code",
   "execution_count": 15,
   "id": "a1913c6f",
   "metadata": {},
   "outputs": [
    {
     "name": "stdout",
     "output_type": "stream",
     "text": [
      "wake up early\n",
      "read daily\n",
      "pray to god\n",
      "help others\n",
      "be smart\n",
      "help others\n",
      "be smart\n",
      "\n"
     ]
    }
   ],
   "source": [
    "b=open(\"D:/sudhan.txt\",\"a\")\n",
    "b.write(\"help others\\n\")\n",
    "b.write(\"be smart\\n\")\n",
    "b.close()\n",
    "c=open(\"D:/sudhan.txt\",\"r\")\n",
    "print(c.read())\n",
    "c.close()"
   ]
  },
  {
   "cell_type": "code",
   "execution_count": 19,
   "id": "af274e9d",
   "metadata": {},
   "outputs": [
    {
     "name": "stdout",
     "output_type": "stream",
     "text": [
      "['wake up early\\n', 'read daily\\n', 'pray to god\\n', 'help others\\n', 'be smart\\n', 'help others\\n', 'be smart\\n']\n"
     ]
    }
   ],
   "source": [
    "with open(\"D:/sudhan.txt\",\"r\")as file:\n",
    " lines=file.readlines()\n",
    " print(lines)"
   ]
  },
  {
   "cell_type": "code",
   "execution_count": 25,
   "id": "0239f756",
   "metadata": {},
   "outputs": [
    {
     "name": "stdout",
     "output_type": "stream",
     "text": [
      "london\n"
     ]
    }
   ],
   "source": [
    "import json\n",
    "x='{\"name\":\"sudhan\",\"age\":20,\"city\":\"london\"}'\n",
    "y=json.loads(x)\n",
    "print(y[\"city\"])"
   ]
  },
  {
   "cell_type": "code",
   "execution_count": 27,
   "id": "89339633",
   "metadata": {},
   "outputs": [
    {
     "name": "stdout",
     "output_type": "stream",
     "text": [
      "\"{\\\"name\\\":\\\"sudhan\\\",\\\"age\\\":20,\\\"city\\\":\\\"london\\\"}\"\n"
     ]
    }
   ],
   "source": [
    "x='{\"name\":\"sudhan\",\"age\":20,\"city\":\"london\"}'\n",
    "y=json.dumps(x)\n",
    "print(y)"
   ]
  },
  {
   "cell_type": "code",
   "execution_count": null,
   "id": "99fe83cf",
   "metadata": {},
   "outputs": [],
   "source": []
  }
 ],
 "metadata": {
  "kernelspec": {
   "display_name": "Python 3 (ipykernel)",
   "language": "python",
   "name": "python3"
  },
  "language_info": {
   "codemirror_mode": {
    "name": "ipython",
    "version": 3
   },
   "file_extension": ".py",
   "mimetype": "text/x-python",
   "name": "python",
   "nbconvert_exporter": "python",
   "pygments_lexer": "ipython3",
   "version": "3.11.3"
  }
 },
 "nbformat": 4,
 "nbformat_minor": 5
}
