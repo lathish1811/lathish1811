{
 "cells": [
  {
   "cell_type": "code",
   "execution_count": 3,
   "id": "074bd49c",
   "metadata": {},
   "outputs": [
    {
     "name": "stdout",
     "output_type": "stream",
     "text": [
      "0    s\n",
      "1    a\n",
      "2    i\n",
      "3    s\n",
      "4    r\n",
      "5    i\n",
      "dtype: object\n"
     ]
    }
   ],
   "source": [
    "import pandas as pd\n",
    "import numpy as np\n",
    "all=np.array(['s','a','i','s','r','i'])\n",
    "a=pd.Series(all)\n",
    "print(a)\n"
   ]
  },
  {
   "cell_type": "code",
   "execution_count": 6,
   "id": "772f68db",
   "metadata": {},
   "outputs": [
    {
     "name": "stdout",
     "output_type": "stream",
     "text": [
      "a    0\n",
      "b    1\n",
      "c    2\n",
      "dtype: int64\n"
     ]
    }
   ],
   "source": [
    "arr={'a':0,'b':1,'c':2}\n",
    "b=pd.Series(arr)\n",
    "print(b)\n"
   ]
  },
  {
   "cell_type": "code",
   "execution_count": 9,
   "id": "3fcd0039",
   "metadata": {},
   "outputs": [
    {
     "name": "stdout",
     "output_type": "stream",
     "text": [
      "0    4\n",
      "1    4\n",
      "2    4\n",
      "3    4\n",
      "dtype: int64\n"
     ]
    }
   ],
   "source": [
    "x=pd.Series(4,index=[0,1,2,3])\n",
    "print(x)"
   ]
  },
  {
   "cell_type": "raw",
   "id": "e5789ffe",
   "metadata": {},
   "source": [
    "import numpy as np\n",
    "arr=np.array(['b','h','a','v','y','a']\n",
    "print(arr.values)"
   ]
  },
  {
   "cell_type": "code",
   "execution_count": 18,
   "id": "3748db7d",
   "metadata": {},
   "outputs": [
    {
     "name": "stdout",
     "output_type": "stream",
     "text": [
      "['b' 'h' 'a' 'v' 'y' 'a']\n",
      "(6,)\n",
      "1\n",
      "6\n",
      "RangeIndex(start=0, stop=6, step=1)\n"
     ]
    }
   ],
   "source": [
    "import pandas as pd\n",
    "import numpy as np\n",
    "arr=pd.Series(['b','h','a','v','y','a'])\n",
    "print(arr.values)\n",
    "print(arr.shape)\n",
    "print(arr.ndim)\n",
    "print(arr.size)\n",
    "print(arr.index)\n"
   ]
  },
  {
   "cell_type": "code",
   "execution_count": null,
   "id": "514fc18e",
   "metadata": {},
   "outputs": [],
   "source": []
  }
 ],
 "metadata": {
  "kernelspec": {
   "display_name": "Python 3 (ipykernel)",
   "language": "python",
   "name": "python3"
  },
  "language_info": {
   "codemirror_mode": {
    "name": "ipython",
    "version": 3
   },
   "file_extension": ".py",
   "mimetype": "text/x-python",
   "name": "python",
   "nbconvert_exporter": "python",
   "pygments_lexer": "ipython3",
   "version": "3.11.5"
  }
 },
 "nbformat": 4,
 "nbformat_minor": 5
}
