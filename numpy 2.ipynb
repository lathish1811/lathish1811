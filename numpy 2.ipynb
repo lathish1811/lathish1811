{
 "cells": [
  {
   "cell_type": "code",
   "execution_count": 8,
   "id": "3c5fb2e6-62c9-4e18-a5e5-88fcd42a9c20",
   "metadata": {},
   "outputs": [
    {
     "name": "stdout",
     "output_type": "stream",
     "text": [
      "[3 4 5 6]\n"
     ]
    }
   ],
   "source": [
    "import numpy as np\n",
    "arr=np.array([1,2,3,4,5,6,7,8,9])\n",
    "slice1=arr[2:6]\n",
    "print(slice1)"
   ]
  },
  {
   "cell_type": "code",
   "execution_count": 9,
   "id": "a5c1ab01-54f4-4604-b5e2-9b13ffe73f2e",
   "metadata": {},
   "outputs": [
    {
     "name": "stdout",
     "output_type": "stream",
     "text": [
      "[1 3 5 7 9]\n"
     ]
    }
   ],
   "source": [
    "slice2=arr[::2]\n",
    "print(slice2)"
   ]
  },
  {
   "cell_type": "code",
   "execution_count": 11,
   "id": "4e1029a6-1db0-4f54-a997-20ebaf292537",
   "metadata": {},
   "outputs": [
    {
     "name": "stdout",
     "output_type": "stream",
     "text": [
      "[9 8 7 6 5 4 3 2 1]\n"
     ]
    }
   ],
   "source": [
    "reversed=arr[::-1]\n",
    "print(reversed)"
   ]
  },
  {
   "cell_type": "code",
   "execution_count": 15,
   "id": "9a2fd4e8-52d3-4ba3-91b3-0a0c79e09e51",
   "metadata": {},
   "outputs": [
    {
     "name": "stdout",
     "output_type": "stream",
     "text": [
      "[[2 3]\n",
      " [4 6]]\n"
     ]
    }
   ],
   "source": [
    "import numpy as np\n",
    "arr=np.array(([1,2,3,4],[2,4,6,8],[3,4,5,7]))\n",
    "subarray=arr[0:2,1:3]\n",
    "print(subarray)"
   ]
  },
  {
   "cell_type": "code",
   "execution_count": 18,
   "id": "d27b1958-03d4-43f0-afec-5562e6aa7b43",
   "metadata": {},
   "outputs": [
    {
     "name": "stdout",
     "output_type": "stream",
     "text": [
      "[1 2 3]\n"
     ]
    }
   ],
   "source": [
    "col=arr[:,0]\n",
    "print(col)"
   ]
  },
  {
   "cell_type": "code",
   "execution_count": 20,
   "id": "ef36b7ab-a44a-4e67-95be-300996db4cc0",
   "metadata": {},
   "outputs": [
    {
     "name": "stdout",
     "output_type": "stream",
     "text": [
      "[2 4 6 8]\n"
     ]
    }
   ],
   "source": [
    "row=arr[1,:]\n",
    "print(row)"
   ]
  },
  {
   "cell_type": "code",
   "execution_count": 24,
   "id": "01712ef6-569d-436a-acf7-3303ce751132",
   "metadata": {},
   "outputs": [
    {
     "name": "stdout",
     "output_type": "stream",
     "text": [
      "1\n"
     ]
    }
   ],
   "source": [
    "print(arr[0,0])"
   ]
  },
  {
   "cell_type": "code",
   "execution_count": 25,
   "id": "fa7f7628-997b-46ba-8d95-baa359036eca",
   "metadata": {},
   "outputs": [
    {
     "name": "stdout",
     "output_type": "stream",
     "text": [
      "6\n"
     ]
    }
   ],
   "source": [
    "print(arr[1,2])"
   ]
  },
  {
   "cell_type": "code",
   "execution_count": 28,
   "id": "67319485-b15f-406a-b9b6-772a97dec07b",
   "metadata": {},
   "outputs": [
    {
     "name": "stdout",
     "output_type": "stream",
     "text": [
      "20\n"
     ]
    }
   ],
   "source": [
    "arr=np.array([10,20,30,40,50])\n",
    "print(arr[1])"
   ]
  },
  {
   "cell_type": "code",
   "execution_count": 29,
   "id": "626444ff-2737-4afa-ae40-d788c2e5a394",
   "metadata": {},
   "outputs": [
    {
     "name": "stdout",
     "output_type": "stream",
     "text": [
      "[20 30 40]\n"
     ]
    }
   ],
   "source": [
    "print(arr[1:4])"
   ]
  },
  {
   "cell_type": "code",
   "execution_count": 31,
   "id": "312922b3-80cf-4db3-a4a3-e02655ca1e06",
   "metadata": {},
   "outputs": [
    {
     "name": "stdout",
     "output_type": "stream",
     "text": [
      "[30 40 50]\n"
     ]
    }
   ],
   "source": [
    "print(arr[arr>25])"
   ]
  },
  {
   "cell_type": "code",
   "execution_count": 35,
   "id": "fbb95b90-4dff-4d88-a862-d297710d4aac",
   "metadata": {},
   "outputs": [
    {
     "name": "stdout",
     "output_type": "stream",
     "text": [
      "[[1 2 5 6]\n",
      " [3 4 7 8]]\n"
     ]
    }
   ],
   "source": [
    "arr1=np.array([[1,2],[3,4]])\n",
    "arr2=np.array([[5,6],[7,8]])\n",
    "result=np.hstack((arr1,arr2))\n",
    "print(result)\n",
    "#it adds element top of each other"
   ]
  },
  {
   "cell_type": "code",
   "execution_count": 37,
   "id": "8a28c423-ebac-4989-b3cc-523534a08ebb",
   "metadata": {},
   "outputs": [],
   "source": []
  },
  {
   "cell_type": "code",
   "execution_count": 38,
   "id": "4301ea43-ebd8-4362-8918-8694b1d9b17c",
   "metadata": {},
   "outputs": [
    {
     "name": "stdout",
     "output_type": "stream",
     "text": [
      "[[[1 5]\n",
      "  [2 6]]\n",
      "\n",
      " [[3 7]\n",
      "  [4 8]]]\n"
     ]
    }
   ],
   "source": [
    "arr1=np.array([[1,2],[3,4]])\n",
    "arr2=np.array([[5,6],[7,8]])\n",
    "result=np.dstack((arr1,arr2))\n",
    "print(result)\n",
    "#it adds element top of each other"
   ]
  },
  {
   "cell_type": "code",
   "execution_count": null,
   "id": "b2d939e1-a7e8-4e6d-aea7-20a8489484f9",
   "metadata": {},
   "outputs": [],
   "source": []
  },
  {
   "cell_type": "code",
   "execution_count": 41,
   "id": "84c36de3-fd3a-4d5a-afca-53fb0b1d7039",
   "metadata": {},
   "outputs": [
    {
     "name": "stdout",
     "output_type": "stream",
     "text": [
      "[array([1, 2]), array([3, 4]), array([5, 6])]\n"
     ]
    }
   ],
   "source": [
    "#splitting in numpy\n",
    "import numpy as np\n",
    "arr1=np.array([1,2,3,4,5,6])\n",
    "result=np.split(arr1,3)\n",
    "print(result)"
   ]
  },
  {
   "cell_type": "code",
   "execution_count": 42,
   "id": "cba5943c-6b56-4d08-8aaf-2ce250260121",
   "metadata": {},
   "outputs": [
    {
     "name": "stdout",
     "output_type": "stream",
     "text": [
      "[array([1, 2]), array([3, 4]), array([5, 6])]\n"
     ]
    }
   ],
   "source": [
    "import numpy as np\n",
    "arr1=np.array([1,2,3,4,5,6])\n",
    "result=np.array_split(arr1,3)\n",
    "print(result)"
   ]
  }
 ],
 "metadata": {
  "kernelspec": {
   "display_name": "Python 3 (ipykernel)",
   "language": "python",
   "name": "python3"
  },
  "language_info": {
   "codemirror_mode": {
    "name": "ipython",
    "version": 3
   },
   "file_extension": ".py",
   "mimetype": "text/x-python",
   "name": "python",
   "nbconvert_exporter": "python",
   "pygments_lexer": "ipython3",
   "version": "3.12.7"
  }
 },
 "nbformat": 4,
 "nbformat_minor": 5
}
