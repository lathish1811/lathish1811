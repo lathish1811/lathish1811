{
 "cells": [
  {
   "cell_type": "code",
   "execution_count": 1,
   "id": "b0ecc839",
   "metadata": {},
   "outputs": [
    {
     "name": "stdout",
     "output_type": "stream",
     "text": [
      "onr dimensional array [10 20 30 40]\n"
     ]
    }
   ],
   "source": [
    "import numpy as np;\n",
    "a=np.array([10,20,30,40])\n",
    "print(\"onr dimensional array\",a)"
   ]
  },
  {
   "cell_type": "code",
   "execution_count": 3,
   "id": "6af264c1",
   "metadata": {},
   "outputs": [
    {
     "name": "stdout",
     "output_type": "stream",
     "text": [
      "two dimensional array [[10 20 30 40]\n",
      " [10 20 30 40]]\n"
     ]
    }
   ],
   "source": [
    "import numpy as np;\n",
    "b=np.array([[10,20,30,40],[10,20,30,40]])\n",
    "print(\"two dimensional array\",b)"
   ]
  },
  {
   "cell_type": "code",
   "execution_count": 4,
   "id": "c457bb76",
   "metadata": {},
   "outputs": [
    {
     "name": "stdout",
     "output_type": "stream",
     "text": [
      "three dimensional array [[10 20 30 40]\n",
      " [10 20 30 40]]\n"
     ]
    }
   ],
   "source": [
    "import numpy as np;\n",
    "c=np.array([[10,20,30,40],[10,20,30,40]])\n",
    "print(\"three dimensional array\",c)"
   ]
  },
  {
   "cell_type": "code",
   "execution_count": 6,
   "id": "b9eca3b6",
   "metadata": {},
   "outputs": [
    {
     "name": "stdout",
     "output_type": "stream",
     "text": [
      "\n",
      " zero array \n",
      " [[0. 0. 0. 0. 0.]\n",
      " [0. 0. 0. 0. 0.]\n",
      " [0. 0. 0. 0. 0.]]\n"
     ]
    }
   ],
   "source": [
    "import numpy as np;\n",
    "d=np.zeros((3,5))\n",
    "print(\"\\n zero array \\n\",d)"
   ]
  },
  {
   "cell_type": "code",
   "execution_count": 10,
   "id": "d83e6322",
   "metadata": {},
   "outputs": [
    {
     "name": "stdout",
     "output_type": "stream",
     "text": [
      "\n",
      " random value \n",
      " [[0.2140503  0.08175881 0.58649622]]\n"
     ]
    }
   ],
   "source": [
    "import numpy as np;\n",
    "f=np.random.random((1,3))\n",
    "print(\"\\n random value \\n\",f)"
   ]
  },
  {
   "cell_type": "code",
   "execution_count": 11,
   "id": "393d30af",
   "metadata": {},
   "outputs": [
    {
     "name": "stdout",
     "output_type": "stream",
     "text": [
      "\n",
      " random value\n",
      " [ 0 11]\n"
     ]
    }
   ],
   "source": [
    "import numpy as np;\n",
    "e=np.arange(0,18,11)\n",
    "print(\"\\n random value\\n\",e)"
   ]
  },
  {
   "cell_type": "code",
   "execution_count": 12,
   "id": "e7ae0e86",
   "metadata": {},
   "outputs": [
    {
     "name": "stdout",
     "output_type": "stream",
     "text": [
      "\n",
      " original array\n",
      " [[18 11 21 29]\n",
      " [11 18 21 29]\n",
      " [21 29 11 18]]\n",
      "\n",
      " reshaped array \n",
      " [[18 11 21]\n",
      " [29 11 18]\n",
      " [21 29 21]\n",
      " [29 11 18]]\n"
     ]
    }
   ],
   "source": [
    "import numpy as np;\n",
    "f=np.array([[18,11,21,29],[11,18,21,29],[21,29,11,18]])\n",
    "newarray=f.reshape((4,3))\n",
    "print(\"\\n original array\\n\",f)\n",
    "print(\"\\n reshaped array \\n\",newarray)"
   ]
  },
  {
   "cell_type": "code",
   "execution_count": 14,
   "id": "945bbe33",
   "metadata": {},
   "outputs": [
    {
     "name": "stdout",
     "output_type": "stream",
     "text": [
      "original array: [[18 11 21]\n",
      " [11 18 21]]\n",
      "flattened array: [18 11 21 11 18 21]\n"
     ]
    }
   ],
   "source": [
    "import numpy as np;\n",
    "b=np.array([[18,11,21],[11,18,21]])\n",
    "g=b.flatten()\n",
    "print(\"original array:\",b)\n",
    "print(\"flattened array:\",g)\n"
   ]
  },
  {
   "cell_type": "code",
   "execution_count": 15,
   "id": "aff98f42",
   "metadata": {},
   "outputs": [
    {
     "name": "stdout",
     "output_type": "stream",
     "text": [
      "\n",
      " dimension of the array: 2\n"
     ]
    }
   ],
   "source": [
    "import numpy as np;\n",
    "a=np.array([[8,1,2],[1,8,2]])\n",
    "dimension=a.ndim\n",
    "print(\"\\n dimension of the array:\",dimension)"
   ]
  },
  {
   "cell_type": "code",
   "execution_count": 17,
   "id": "d401f887",
   "metadata": {},
   "outputs": [
    {
     "name": "stdout",
     "output_type": "stream",
     "text": [
      "\n",
      " dimension of the array: 3\n"
     ]
    }
   ],
   "source": [
    "import numpy as np;\n",
    "a=np.array([[[8,1,2],[1,8,2],[2,1,8]]])\n",
    "dimension=a.ndim\n",
    "print(\"\\n dimension of the array:\",dimension)"
   ]
  },
  {
   "cell_type": "code",
   "execution_count": 18,
   "id": "059daa4f",
   "metadata": {},
   "outputs": [
    {
     "name": "stdout",
     "output_type": "stream",
     "text": [
      "shape of the array: (2, 3)\n"
     ]
    }
   ],
   "source": [
    "import numpy as np;\n",
    "f=np.array([[1,8,2],[8,1,2]])\n",
    "shape=f.shape\n",
    "print(\"shape of the array:\",shape)"
   ]
  },
  {
   "cell_type": "code",
   "execution_count": 19,
   "id": "2933d11d",
   "metadata": {},
   "outputs": [
    {
     "name": "stdout",
     "output_type": "stream",
     "text": [
      "\n",
      " array element: int64\n"
     ]
    }
   ],
   "source": [
    "import numpy as np;\n",
    "g=np.array([[11,18,21],[18,11,21]])\n",
    "print(\"\\n array element:\",g.dtype)"
   ]
  },
  {
   "cell_type": "code",
   "execution_count": 20,
   "id": "7a9012cc",
   "metadata": {},
   "outputs": [
    {
     "name": "stdout",
     "output_type": "stream",
     "text": [
      "\n",
      " lenght of array: 3\n"
     ]
    }
   ],
   "source": [
    "import numpy as np;\n",
    "s=np.array([7,10,11])\n",
    "print(\"\\n lenght of array:\",len(s))"
   ]
  },
  {
   "cell_type": "code",
   "execution_count": null,
   "id": "51831aea",
   "metadata": {},
   "outputs": [],
   "source": []
  }
 ],
 "metadata": {
  "kernelspec": {
   "display_name": "Python 3 (ipykernel)",
   "language": "python",
   "name": "python3"
  },
  "language_info": {
   "codemirror_mode": {
    "name": "ipython",
    "version": 3
   },
   "file_extension": ".py",
   "mimetype": "text/x-python",
   "name": "python",
   "nbconvert_exporter": "python",
   "pygments_lexer": "ipython3",
   "version": "3.11.4"
  }
 },
 "nbformat": 4,
 "nbformat_minor": 5
}
