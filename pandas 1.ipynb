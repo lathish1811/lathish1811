{
 "cells": [
  {
   "cell_type": "code",
   "execution_count": 5,
   "id": "e2c1fb08",
   "metadata": {},
   "outputs": [
    {
     "name": "stdout",
     "output_type": "stream",
     "text": [
      "Empty DataFrame\n",
      "Columns: []\n",
      "Index: []\n"
     ]
    }
   ],
   "source": [
    "import pandas as pd\n",
    "emp= pd.DataFrame()\n",
    "print(emp)"
   ]
  },
  {
   "cell_type": "code",
   "execution_count": 7,
   "id": "b558983d",
   "metadata": {},
   "outputs": [
    {
     "name": "stdout",
     "output_type": "stream",
     "text": [
      "         Emp  id\n",
      "0   dharshan  80\n",
      "1     sudeep  58\n",
      "2       siva  70\n",
      "3       yash  88\n",
      "4  keerthana  90\n"
     ]
    }
   ],
   "source": [
    "emp=pd.Series([\"dharshan\",\"sudeep\",\"siva\",\"yash\",\"keerthana\"])\n",
    "id=pd.Series([80,58,70,88,90])\n",
    "frame={'Emp':emp,'id':id}\n",
    "res=pd.DataFrame(frame)\n",
    "print(res)"
   ]
  },
  {
   "cell_type": "code",
   "execution_count": 10,
   "id": "a53bedb5",
   "metadata": {},
   "outputs": [
    {
     "name": "stdout",
     "output_type": "stream",
     "text": [
      "\n",
      " Extracting one column:\n",
      "\n",
      "0     dharshan\n",
      "1       sudeep\n",
      "2         siva\n",
      "3         yash\n",
      "4    keerthana\n",
      "Name: Emp, dtype: object\n"
     ]
    }
   ],
   "source": [
    "import pandas as pd\n",
    "print(\"\\n Extracting one column:\\n\")\n",
    "print(res['Emp'])"
   ]
  },
  {
   "cell_type": "code",
   "execution_count": 12,
   "id": "8344bbd6",
   "metadata": {},
   "outputs": [
    {
     "name": "stdout",
     "output_type": "stream",
     "text": [
      "\n",
      " Adding new column:\n",
      "\n",
      "         Emp  id  ID  AGE\n",
      "0   dharshan  80  10   25\n",
      "1     sudeep  58  20   28\n",
      "2       siva  70  30   30\n",
      "3       yash  88  40   32\n",
      "4  keerthana  90  50   27\n"
     ]
    }
   ],
   "source": [
    "import pandas as pd\n",
    "print(\"\\n Adding new column:\\n\")\n",
    "res['ID']=pd.Series([10,20,30,40,50])\n",
    "res['AGE']=pd.Series([25,28,30,32,27])\n",
    "print(res)"
   ]
  },
  {
   "cell_type": "code",
   "execution_count": 13,
   "id": "b1a5fe9e",
   "metadata": {},
   "outputs": [
    {
     "name": "stdout",
     "output_type": "stream",
     "text": [
      "\n",
      " deleting column\n",
      "\n",
      "         Emp  id  AGE\n",
      "0   dharshan  80   25\n",
      "1     sudeep  58   28\n",
      "2       siva  70   30\n",
      "3       yash  88   32\n",
      "4  keerthana  90   27\n"
     ]
    }
   ],
   "source": [
    "print(\"\\n deleting column\\n\")\n",
    "del res['ID']\n",
    "print(res)"
   ]
  },
  {
   "cell_type": "code",
   "execution_count": 14,
   "id": "0c0917f5",
   "metadata": {},
   "outputs": [
    {
     "name": "stdout",
     "output_type": "stream",
     "text": [
      "\n",
      " Extracting the 2nd row\n",
      "Emp    sudeep\n",
      "id         58\n",
      "AGE        28\n",
      "Name: 1, dtype: object\n"
     ]
    }
   ],
   "source": [
    "print(\"\\n Extracting the 2nd row\")\n",
    "print(res.loc[1])"
   ]
  },
  {
   "cell_type": "code",
   "execution_count": 15,
   "id": "7a2734f9",
   "metadata": {},
   "outputs": [
    {
     "name": "stdout",
     "output_type": "stream",
     "text": [
      "slice row:\n",
      "       Emp  id  AGE\n",
      "1  sudeep  58   28\n",
      "2    siva  70   30\n"
     ]
    }
   ],
   "source": [
    "print(\"slice row:\\n\",res[1:3])"
   ]
  },
  {
   "cell_type": "code",
   "execution_count": null,
   "id": "a0189f2f",
   "metadata": {},
   "outputs": [],
   "source": [
    "`"
   ]
  }
 ],
 "metadata": {
  "kernelspec": {
   "display_name": "Python 3 (ipykernel)",
   "language": "python",
   "name": "python3"
  },
  "language_info": {
   "codemirror_mode": {
    "name": "ipython",
    "version": 3
   },
   "file_extension": ".py",
   "mimetype": "text/x-python",
   "name": "python",
   "nbconvert_exporter": "python",
   "pygments_lexer": "ipython3",
   "version": "3.11.5"
  }
 },
 "nbformat": 4,
 "nbformat_minor": 5
}
