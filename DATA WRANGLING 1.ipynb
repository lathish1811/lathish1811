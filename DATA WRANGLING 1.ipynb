{
 "cells": [
  {
   "cell_type": "code",
   "execution_count": 6,
   "id": "18120add",
   "metadata": {},
   "outputs": [
    {
     "name": "stdout",
     "output_type": "stream",
     "text": [
      "  name  age\n",
      "0  sai   20\n",
      "1  sub   21\n",
      "2  poo   22\n",
      "   qualified\n",
      "0       True\n",
      "1       True\n",
      "2      False\n",
      "  name  age  qualified\n",
      "0  sai   20       True\n",
      "1  sub   21       True\n",
      "2  poo   22      False\n"
     ]
    }
   ],
   "source": [
    "import pandas as pd\n",
    "d1={\"name\":[\"sai\",\"sub\",\"poo\"],\"age\":[20,21,22]}\n",
    "d2={\"qualified\":[True,True,False]}\n",
    "df1=pd.DataFrame(d1)\n",
    "print(df1)\n",
    "df2=pd.DataFrame(d2)\n",
    "print(df2)\n",
    "newdf=df1.join(df2)\n",
    "print(newdf)"
   ]
  },
  {
   "cell_type": "code",
   "execution_count": 17,
   "id": "b373170e",
   "metadata": {},
   "outputs": [
    {
     "name": "stdout",
     "output_type": "stream",
     "text": [
      "   name  age\n",
      "0   sai   20\n",
      "1   sri   21\n",
      "2  pavi   22\n",
      "      name  age\n",
      "0     yuvi   15\n",
      "1  rithika   16\n",
      "2   sanjay   17\n",
      "Empty DataFrame\n",
      "Columns: [name_x, age, name_y]\n",
      "Index: []\n"
     ]
    }
   ],
   "source": [
    "d1={\"name\":[\"sai\",\"sri\",\"pavi\"],\"age\":[20,21,22]}\n",
    "d2={\"name\":[\"yuvi\",\"rithika\",\"sanjay\"],\"age\":[15,16,17]}\n",
    "df1=pd.DataFrame(d1)\n",
    "print(df1)\n",
    "df2=pd.DataFrame(d2)\n",
    "print(df2)\n",
    "newdf1=df2.merge(df1,on='age')\n",
    "print(newdf1)"
   ]
  },
  {
   "cell_type": "code",
   "execution_count": 22,
   "id": "3deb591e",
   "metadata": {},
   "outputs": [
    {
     "name": "stdout",
     "output_type": "stream",
     "text": [
      "  team  points  assist  rebound\n",
      "0    A      90      12       56\n",
      "1    B      56      34       43\n",
      "2    C      78      23       55\n",
      "3    D      88      44       12\n",
      "   team variable  value\n",
      "0     A   points     90\n",
      "1     B   points     56\n",
      "2     C   points     78\n",
      "3     D   points     88\n",
      "4     A   assist     12\n",
      "5     B   assist     34\n",
      "6     C   assist     23\n",
      "7     D   assist     44\n",
      "8     A  rebound     56\n",
      "9     B  rebound     43\n",
      "10    C  rebound     55\n",
      "11    D  rebound     12\n"
     ]
    }
   ],
   "source": [
    "df=pd.DataFrame({\"team\":[\"A\",\"B\",\"C\",\"D\"],\"points\":[90,56,78,88],\"assist\":[12,34,23,44],\"rebound\":[56,43,55,12]})\n",
    "print(df)\n",
    "df=pd.melt(df,id_vars=\"team\",value_vars=[\"points\",\"assist\",\"rebound\"])\n",
    "print(df)"
   ]
  },
  {
   "cell_type": "code",
   "execution_count": null,
   "id": "78ca714e",
   "metadata": {},
   "outputs": [],
   "source": []
  }
 ],
 "metadata": {
  "kernelspec": {
   "display_name": "Python 3 (ipykernel)",
   "language": "python",
   "name": "python3"
  },
  "language_info": {
   "codemirror_mode": {
    "name": "ipython",
    "version": 3
   },
   "file_extension": ".py",
   "mimetype": "text/x-python",
   "name": "python",
   "nbconvert_exporter": "python",
   "pygments_lexer": "ipython3",
   "version": "3.11.3"
  }
 },
 "nbformat": 4,
 "nbformat_minor": 5
}
