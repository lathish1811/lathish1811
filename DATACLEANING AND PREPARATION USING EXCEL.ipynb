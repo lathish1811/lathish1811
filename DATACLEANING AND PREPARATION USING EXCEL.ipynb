{
 "cells": [
  {
   "cell_type": "code",
   "execution_count": 20,
   "id": "6609d951",
   "metadata": {},
   "outputs": [
    {
     "name": "stdout",
     "output_type": "stream",
     "text": [
      "   Unnamed: 0  Roll no.           Name  LICA  EM 2  T&D\n",
      "0           0         1       Abhinith    36    63   53\n",
      "1           1         2         Akilan    23    56   65\n",
      "2           2         3      Anulaxxmi    23    53   33\n",
      "3           3         4  Aravind Kumar    56    53   32\n",
      "4           4         5          Arjun    34    76   32\n",
      "5           5         6         Ashwin    25    23   54\n",
      "6           6         7           Arya    25    75   23\n",
      "7           7         8           Babu    75    75   43\n",
      "8           8         9  Balaganapathy    43    65   43\n",
      "9           9        10    Balamurugan    54    34   75\n"
     ]
    }
   ],
   "source": [
    "import pandas as pd\n",
    "pd.set_option('display.max_column',10)\n",
    "df=pd.read_excel(\"/Users/student/Downloads/marksheet.xlsx\")\n",
    "print(df)"
   ]
  },
  {
   "cell_type": "code",
   "execution_count": 21,
   "id": "d80a8b7c",
   "metadata": {},
   "outputs": [
    {
     "name": "stdout",
     "output_type": "stream",
     "text": [
      "   Unnamed: 0  Roll no.           Name  LICA  EM 2  T&D\n",
      "0           0         1       Abhinith    36    63   53\n",
      "1           1         2         Akilan    23    56   65\n",
      "2           2         3      Anulaxxmi    23    53   33\n",
      "3           3         4  Aravind Kumar    56    53   32\n",
      "4           4         5          Arjun    34    76   32\n",
      "5           5         6         Ashwin    25    23   54\n",
      "6           6         7           Arya    25    75   23\n",
      "7           7         8           Babu    75    75   43\n",
      "8           8         9  Balaganapathy    43    65   43\n",
      "9           9        10    Balamurugan    54    34   75\n",
      "\n",
      "lipdated line\n",
      "\n"
     ]
    }
   ],
   "source": [
    "k=df.fillna(method=\"pad\")\n",
    "print(k)\n",
    "print(\"\\nlipdated line\\n\")\n",
    "k.to_excel(\"/Users/student/Downloads/marksheet.xlsx\")"
   ]
  },
  {
   "cell_type": "code",
   "execution_count": 24,
   "id": "543ece06",
   "metadata": {},
   "outputs": [
    {
     "name": "stdout",
     "output_type": "stream",
     "text": [
      "   Unnamed: 0  Roll no.           Name  EM 2  T&D\n",
      "0           0         1       Abhinith    63   53\n",
      "1           1         2         Akilan    56   65\n",
      "2           2         3      Anulaxxmi    53   33\n",
      "3           3         4  Aravind Kumar    53   32\n",
      "4           4         5          Arjun    76   32\n",
      "5           5         6         Ashwin    23   54\n",
      "6           6         7           Arya    75   23\n",
      "7           7         8           Babu    75   43\n",
      "8           8         9  Balaganapathy    65   43\n",
      "9           9        10    Balamurugan    34   75\n"
     ]
    }
   ],
   "source": [
    "k.drop(['LICA'],axis=1,inplace=True)\n",
    "print(k)\n",
    "k.to_excel(\"/Users/student/Downloads/marksheet.xlsx\")"
   ]
  },
  {
   "cell_type": "code",
   "execution_count": 28,
   "id": "6880338b",
   "metadata": {},
   "outputs": [
    {
     "name": "stdout",
     "output_type": "stream",
     "text": [
      "drop NaN rows\n",
      "   Roll no.           Name  LICA   DLC  EM 2   T&D\n",
      "0         1       Abhinith  36.0  41.0  63.0  53.0\n",
      "1         2         Akilan  23.0  34.0  56.0  65.0\n",
      "2         3      Anulaxxmi  23.0   NaN  53.0  33.0\n",
      "3         4  Aravind Kumar  56.0  65.0   NaN  32.0\n",
      "4         5          Arjun  34.0  65.0  76.0   NaN\n",
      "5         6         Ashwin  25.0  55.0  23.0  54.0\n",
      "6         7           Arya   NaN  57.0  75.0  23.0\n",
      "7         8           Babu  75.0  54.0   NaN  43.0\n",
      "8         9  Balaganapathy  43.0   NaN  65.0  43.0\n",
      "9        10    Balamurugan  54.0  64.0  34.0  75.0\n",
      "   Roll no.         Name  LICA   DLC  EM 2   T&D\n",
      "0         1     Abhinith  36.0  41.0  63.0  53.0\n",
      "1         2       Akilan  23.0  34.0  56.0  65.0\n",
      "5         6       Ashwin  25.0  55.0  23.0  54.0\n",
      "9        10  Balamurugan  54.0  64.0  34.0  75.0\n"
     ]
    }
   ],
   "source": [
    "print(\"drop NaN rows\")\n",
    "df=pd.read_excel(\"/Users/student/Downloads/marksheet copy.xlsx\")\n",
    "print(df)\n",
    "x=df.dropna()\n",
    "print(x)\n",
    "x.to_excel(\"/Users/student/Downloads/marksheet copy.xlsx\")"
   ]
  },
  {
   "cell_type": "code",
   "execution_count": 30,
   "id": "6c158d5b",
   "metadata": {},
   "outputs": [
    {
     "name": "stdout",
     "output_type": "stream",
     "text": [
      "   Unnamed: 0  Roll no.         Name  LICA  DLC  EM 2  T&D\n",
      "0           0         1     Abhinith    36   41    63   53\n",
      "1           1         2       Akilan    23   34    56   65\n",
      "2           5         6       Ashwin    25   55    23   54\n",
      "3           9        10  Balamurugan    54   64    34   75\n",
      "   Unnamed: 0  Roll no.         Name  LICA  DLC  EM 2  T&D\n",
      "0           0         1     Abhinith    36   41    63   53\n",
      "1           1         2       Akilan    23   34    56   65\n",
      "2           5         6       Ashwin    25   55    23   54\n",
      "3           9        10  Balamurugan    54   64    34   75\n"
     ]
    }
   ],
   "source": [
    "n=pd.read_excel(\"/Users/student/Downloads/marksheet copy.xlsx\")\n",
    "print(n)\n",
    "y=n.replace({60:75})\n",
    "print(y)\n",
    "y.to_excel(\"/Users/student/Downloads/marksheet copy.xlsx\")"
   ]
  },
  {
   "cell_type": "code",
   "execution_count": 41,
   "id": "11166d80",
   "metadata": {},
   "outputs": [
    {
     "name": "stdout",
     "output_type": "stream",
     "text": [
      "   Unnamed: 0.1  Unnamed: 0  Roll no.         Name  LICA  DLC  EM 2  T&D\n",
      "0             0           0         1     Abhinith    36   41    63   53\n",
      "1             1           1         2       Akilan    23   34    56   65\n",
      "2             2           5         6       Ashwin    25   55    23   54\n",
      "3             3           9        10  Balamurugan    54   64    34   75\n",
      "extract array using isin() function\n",
      "   Unnamed: 0.1  Unnamed: 0  Roll no.    Name  LICA  DLC  EM 2  T&D\n",
      "2             2           5         6  Ashwin    25   55    23   54\n"
     ]
    }
   ],
   "source": [
    "df=pd.read_excel(\"/Users/student/Downloads/marksheet copy.xlsx\")\n",
    "print(df)\n",
    "print(\"extract array using isin() function\")\n",
    "new=df['LICA'].isin([25])\n",
    "print(df[new])\n"
   ]
  },
  {
   "cell_type": "code",
   "execution_count": null,
   "id": "4a2e4bdf",
   "metadata": {},
   "outputs": [],
   "source": []
  },
  {
   "cell_type": "code",
   "execution_count": null,
   "id": "909e808d",
   "metadata": {},
   "outputs": [],
   "source": []
  },
  {
   "cell_type": "code",
   "execution_count": null,
   "id": "e11d0f2a",
   "metadata": {},
   "outputs": [],
   "source": []
  },
  {
   "cell_type": "code",
   "execution_count": null,
   "id": "ddcefb05",
   "metadata": {},
   "outputs": [],
   "source": []
  }
 ],
 "metadata": {
  "kernelspec": {
   "display_name": "Python 3 (ipykernel)",
   "language": "python",
   "name": "python3"
  },
  "language_info": {
   "codemirror_mode": {
    "name": "ipython",
    "version": 3
   },
   "file_extension": ".py",
   "mimetype": "text/x-python",
   "name": "python",
   "nbconvert_exporter": "python",
   "pygments_lexer": "ipython3",
   "version": "3.11.5"
  }
 },
 "nbformat": 4,
 "nbformat_minor": 5
}
