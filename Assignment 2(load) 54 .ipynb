{
 "cells": [
  {
   "cell_type": "code",
   "execution_count": 7,
   "id": "cfeff17c",
   "metadata": {},
   "outputs": [
    {
     "name": "stdout",
     "output_type": "stream",
     "text": [
      "   Emp ID Name Prefix First Name Middle Initial Last Name Gender  \\\n",
      "0  677509        Drs.       Lois              H    Walker      F   \n",
      "1  940761         Ms.     Brenda              S  Robinson      F   \n",
      "\n",
      "                      E Mail     Father's Name  Mother's Name  \\\n",
      "0    lois.walker@hotmail.com     Donald Walker   Helen Walker   \n",
      "1  brenda.robinson@gmail.com  Raymond Robinson  Judy Robinson   \n",
      "\n",
      "  Mother's Maiden Name  Salary  \n",
      "0                Lewis  168251  \n",
      "1                Perry   51063  \n"
     ]
    }
   ],
   "source": [
    "import pandas as pd\n",
    "d=pd.read_csv(\"employees details.csv\")\n",
    "print(d.head(2))"
   ]
  },
  {
   "cell_type": "code",
   "execution_count": 10,
   "id": "3a68b7ed",
   "metadata": {},
   "outputs": [
    {
     "name": "stdout",
     "output_type": "stream",
     "text": [
      "columns Index(['Emp ID', 'Name Prefix', 'First Name', 'Middle Initial', 'Last Name',\n",
      "       'Gender', 'E Mail', 'Father's Name', 'Mother's Name',\n",
      "       'Mother's Maiden Name', 'Salary'],\n",
      "      dtype='object')\n",
      "(100, 11)\n"
     ]
    }
   ],
   "source": [
    "df=pd.DataFrame(d)\n",
    "print(\"columns\",df.columns)\n",
    "print(df.shape)"
   ]
  },
  {
   "cell_type": "code",
   "execution_count": 12,
   "id": "875367fc",
   "metadata": {},
   "outputs": [
    {
     "name": "stdout",
     "output_type": "stream",
     "text": [
      "E Mail 0          lois.walker@hotmail.com\n",
      "1        brenda.robinson@gmail.com\n",
      "2           joe.robinson@gmail.com\n",
      "3            diane.evans@yahoo.com\n",
      "4     benjamin.russell@charter.net\n",
      "                  ...             \n",
      "95           jose.hill@hotmail.com\n",
      "96         harold.nelson@gmail.com\n",
      "97           nicole.ward@yahoo.com\n",
      "98        theresa.murphy@gmail.com\n",
      "99         tammy.young@comcast.net\n",
      "Name: E Mail, Length: 100, dtype: object\n"
     ]
    }
   ],
   "source": [
    "print(\"E Mail\",df['E Mail'])"
   ]
  },
  {
   "cell_type": "code",
   "execution_count": 13,
   "id": "7a597b56",
   "metadata": {},
   "outputs": [
    {
     "name": "stdout",
     "output_type": "stream",
     "text": [
      "    Emp ID Name Prefix First Name Middle Initial  Last Name Gender  \\\n",
      "11  153989       Prof.       Jack              C  Alexander      M   \n",
      "12  386158        Mrs.    Melissa              Q       King      F   \n",
      "13  301576        Hon.      Wayne              G     Watson      M   \n",
      "\n",
      "                      E Mail     Father's Name     Mother's Name  \\\n",
      "11  jack.alexander@gmail.com  Samuel Alexander  Sharon Alexander   \n",
      "12  melissa.king@comcast.net       Philip King        Maria King   \n",
      "13    wayne.watson@gmail.com     Ronald Watson   Margaret Watson   \n",
      "\n",
      "   Mother's Maiden Name  Salary  \n",
      "11               Walker   82965  \n",
      "12                White  166892  \n",
      "13                Hayes   92758  \n"
     ]
    }
   ],
   "source": [
    "print(df[11:14])"
   ]
  },
  {
   "cell_type": "code",
   "execution_count": 14,
   "id": "53e5f049",
   "metadata": {},
   "outputs": [
    {
     "name": "stdout",
     "output_type": "stream",
     "text": [
      "Particular peeson details Emp ID                                   971640\n",
      "Name Prefix                               Prof.\n",
      "First Name                             Clarence\n",
      "Middle Initial                                A\n",
      "Last Name                                  Ross\n",
      "Gender                                        M\n",
      "E Mail                  clarence.ross@apple.com\n",
      "Father's Name                       Arthur Ross\n",
      "Mother's Name                       Louise Ross\n",
      "Mother's Maiden Name                 Washington\n",
      "Salary                                   165272\n",
      "Name: 54, dtype: object\n"
     ]
    }
   ],
   "source": [
    "print(\"Particular peeson details\",df.loc[54])"
   ]
  },
  {
   "cell_type": "code",
   "execution_count": 17,
   "id": "6151cb5d",
   "metadata": {},
   "outputs": [
    {
     "name": "stdout",
     "output_type": "stream",
     "text": [
      "    Emp ID Name Prefix First Name Middle Initial Last Name Gender  \\\n",
      "55  253573         Ms.     Sharon              E     Lopez      F   \n",
      "\n",
      "                    E Mail Father's Name Mother's Name Mother's Maiden Name  \\\n",
      "55  sharon.lopez@gmail.com  Daniel Lopez   Susan Lopez                Hayes   \n",
      "\n",
      "    Salary  \n",
      "55  190139  \n"
     ]
    }
   ],
   "source": [
    "print(d.loc[d['Salary']==190139])"
   ]
  },
  {
   "cell_type": "code",
   "execution_count": 18,
   "id": "ab3a95b7",
   "metadata": {},
   "outputs": [
    {
     "name": "stdout",
     "output_type": "stream",
     "text": [
      "0     16825.1\n",
      "1      5106.3\n",
      "2      5015.5\n",
      "3     18029.4\n",
      "4     11764.2\n",
      "       ...   \n",
      "95    12977.4\n",
      "96    15619.4\n",
      "97     9567.3\n",
      "98     5101.5\n",
      "99     9365.0\n",
      "Name: Salary, Length: 100, dtype: float64\n"
     ]
    }
   ],
   "source": [
    "df=d['Salary']/10\n",
    "print(df)"
   ]
  },
  {
   "cell_type": "code",
   "execution_count": null,
   "id": "3c7df2b8",
   "metadata": {},
   "outputs": [],
   "source": []
  }
 ],
 "metadata": {
  "kernelspec": {
   "display_name": "Python 3 (ipykernel)",
   "language": "python",
   "name": "python3"
  },
  "language_info": {
   "codemirror_mode": {
    "name": "ipython",
    "version": 3
   },
   "file_extension": ".py",
   "mimetype": "text/x-python",
   "name": "python",
   "nbconvert_exporter": "python",
   "pygments_lexer": "ipython3",
   "version": "3.11.4"
  }
 },
 "nbformat": 4,
 "nbformat_minor": 5
}
