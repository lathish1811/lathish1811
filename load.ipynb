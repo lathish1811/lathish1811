{
 "cells": [
  {
   "cell_type": "code",
   "execution_count": 1,
   "id": "04d0e8ee",
   "metadata": {},
   "outputs": [
    {
     "name": "stdout",
     "output_type": "stream",
     "text": [
      "    S.No  Unnamed: 1             Name  Unnamed: 3   Age  Unnamed: 5  Gender  \\\n",
      "0    NaN         NaN              NaN         NaN   NaN         NaN     NaN   \n",
      "1    1.0         NaN  lathish krishna         NaN  25.0         NaN    male   \n",
      "2    2.0         NaN           kumran         NaN  24.0         NaN    Male   \n",
      "3    3.0         NaN            Akash         NaN  25.0         NaN    Male   \n",
      "4    4.0         NaN          lakshya         NaN  22.0         NaN  Female   \n",
      "5    5.0         NaN            Irene         NaN  23.0         NaN  Female   \n",
      "6    6.0         NaN           Ashika         NaN  27.0         NaN  Female   \n",
      "7    7.0         NaN           Gopika         NaN  28.0         NaN  Female   \n",
      "8    8.0         NaN             Asha         NaN  31.0         NaN  Female   \n",
      "9    9.0         NaN         Nandhini         NaN  29.0         NaN  Female   \n",
      "10  10.0         NaN         Amarnath         NaN  25.0         NaN    Male   \n",
      "11  11.0         NaN    Ranjith kumar         NaN  28.0         NaN    Male   \n",
      "12  12.0         NaN          Sabrina         NaN  26.0         NaN  Female   \n",
      "13  13.0         NaN         Niranjan         NaN  22.0         NaN    Male   \n",
      "14  14.0         NaN            Rohit         NaN  34.0         NaN    Male   \n",
      "15  15.0         NaN          Lakshmi         NaN  30.0         NaN  Female   \n",
      "16  16.0         NaN    Nithyakalyani         NaN  25.0         NaN  Female   \n",
      "17  17.0         NaN      Padmanabhan         NaN  28.0         NaN    Male   \n",
      "18  18.0         NaN            Rahul         NaN  27.0         NaN    Male   \n",
      "19  19.0         NaN          Shankar         NaN  32.0         NaN    Male   \n",
      "20  20.0         NaN            Shiva         NaN  33.0         NaN    Male   \n",
      "21  21.0         NaN         Susmitha         NaN  24.0         NaN  Female   \n",
      "22  22.0         NaN          Praveen         NaN  24.0         NaN    Male   \n",
      "23  23.0         NaN        Rajarajan         NaN  36.0         NaN    Male   \n",
      "24  24.0         NaN     Sathishkumar         NaN  38.0         NaN    Male   \n",
      "25  25.0         NaN    Rithik roshan         NaN  25.0         NaN    Male   \n",
      "\n",
      "    Unnamed: 7                     Email  Unnamed: 9   Salary  \n",
      "0          NaN                       NaN         NaN      NaN  \n",
      "1          NaN   lathishkrishna@gmil.com         NaN  50408.0  \n",
      "2          NaN      kumaran.16@gmail.com         NaN  43768.0  \n",
      "3          NaN     Akash.james@gmail.com         NaN  67432.0  \n",
      "4          NaN          janani@gmail.com         NaN  67666.0  \n",
      "5          NaN           irene@gmail.com         NaN  34456.0  \n",
      "6          NaN  ashika.mohamad@gmail.com         NaN  46781.0  \n",
      "7          NaN         gopi.ka@gmail.com         NaN  60796.0  \n",
      "8          NaN            asha@gmail.com         NaN  88120.0  \n",
      "9          NaN        Nandhini@gmail.com         NaN  54908.0  \n",
      "10         NaN        amarnath@gmail.com         NaN  76288.0  \n",
      "11         NaN   ranjith.kumar@gmail.com         NaN  68928.0  \n",
      "12         NaN         sabrina@gmail.com         NaN  48548.0  \n",
      "13         NaN        niranjan@gmail.com         NaN  59595.0  \n",
      "14         NaN           rohit@gmail.com         NaN  86443.0  \n",
      "15         NaN         lakshmi@gmail.com         NaN  37475.0  \n",
      "16         NaN   nithyakalyani@gmail.com         NaN  54637.0  \n",
      "17         NaN           padhu@gmail.com         NaN  73411.0  \n",
      "18         NaN           rahul@gmail.com         NaN  98212.0  \n",
      "19         NaN         shankar@gmail.com         NaN  73838.0  \n",
      "20         NaN           shiva@gmail.com         NaN  90873.0  \n",
      "21         NaN        susmitha@gmail.com         NaN  36474.0  \n",
      "22         NaN         praveen@gmail.com         NaN  78904.0  \n",
      "23         NaN       Rajarajan@gmail.com         NaN  34576.0  \n",
      "24         NaN    sathishkumar@gmail.com         NaN  39123.0  \n",
      "25         NaN   rithik.roshan@gmail.com         NaN  59002.0  \n"
     ]
    }
   ],
   "source": [
    "import pandas as pd\n",
    "d=pd.read_excel(\"Emp.xlsx\")\n",
    "print(d)\n",
    "\n"
   ]
  },
  {
   "cell_type": "code",
   "execution_count": 3,
   "id": "0d6a3fc2",
   "metadata": {},
   "outputs": [
    {
     "name": "stdout",
     "output_type": "stream",
     "text": [
      "columns Index(['S.No', 'Unnamed: 1', 'Name', 'Unnamed: 3', 'Age', 'Unnamed: 5',\n",
      "       'Gender', 'Unnamed: 7', 'Email', 'Unnamed: 9', 'Salary'],\n",
      "      dtype='object')\n",
      "(26, 11)\n"
     ]
    }
   ],
   "source": [
    "df=pd.DataFrame(d)\n",
    "print(\"columns\",df.columns)\n",
    "print(d.shape)"
   ]
  },
  {
   "cell_type": "code",
   "execution_count": 8,
   "id": "b3cbebb1",
   "metadata": {},
   "outputs": [
    {
     "name": "stdout",
     "output_type": "stream",
     "text": [
      "S.no 0                 NaN\n",
      "1     lathish krishna\n",
      "2              kumran\n",
      "3               Akash\n",
      "4             lakshya\n",
      "5               Irene\n",
      "6              Ashika\n",
      "7              Gopika\n",
      "8                Asha\n",
      "9            Nandhini\n",
      "10           Amarnath\n",
      "11      Ranjith kumar\n",
      "12            Sabrina\n",
      "13           Niranjan\n",
      "14              Rohit\n",
      "15            Lakshmi\n",
      "16      Nithyakalyani\n",
      "17        Padmanabhan\n",
      "18              Rahul\n",
      "19            Shankar\n",
      "20              Shiva\n",
      "21           Susmitha\n",
      "22            Praveen\n",
      "23          Rajarajan\n",
      "24       Sathishkumar\n",
      "25      Rithik roshan\n",
      "Name: Name, dtype: object\n",
      "   S.No  Unnamed: 1             Name  Unnamed: 3   Age  Unnamed: 5  Gender  \\\n",
      "1   1.0         NaN  lathish krishna         NaN  25.0         NaN    male   \n",
      "2   2.0         NaN           kumran         NaN  24.0         NaN    Male   \n",
      "3   3.0         NaN            Akash         NaN  25.0         NaN    Male   \n",
      "4   4.0         NaN          lakshya         NaN  22.0         NaN  Female   \n",
      "\n",
      "   Unnamed: 7                    Email  Unnamed: 9   Salary  \n",
      "1         NaN  lathishkrishna@gmil.com         NaN  50408.0  \n",
      "2         NaN     kumaran.16@gmail.com         NaN  43768.0  \n",
      "3         NaN    Akash.james@gmail.com         NaN  67432.0  \n",
      "4         NaN         janani@gmail.com         NaN  67666.0  \n",
      "\n",
      "particular details S.No                         9.0\n",
      "Unnamed: 1                   NaN\n",
      "Name                    Nandhini\n",
      "Unnamed: 3                   NaN\n",
      "Age                         29.0\n",
      "Unnamed: 5                   NaN\n",
      "Gender                    Female\n",
      "Unnamed: 7                   NaN\n",
      "Email         Nandhini@gmail.com\n",
      "Unnamed: 9                   NaN\n",
      "Salary                   54908.0\n",
      "Name: 9, dtype: object\n"
     ]
    }
   ],
   "source": [
    "print(\"S.no\",df['Name'])\n",
    "print(df[1:5])\n",
    "print(\"\\nparticular details\",df.loc[9])"
   ]
  },
  {
   "cell_type": "code",
   "execution_count": 16,
   "id": "597a8429",
   "metadata": {
    "scrolled": false
   },
   "outputs": [
    {
     "name": "stdout",
     "output_type": "stream",
     "text": [
      "   S.No  Unnamed: 1    Name  Unnamed: 3   Age  Unnamed: 5  Gender  Unnamed: 7  \\\n",
      "7   7.0         NaN  Gopika         NaN  28.0         NaN  Female         NaN   \n",
      "\n",
      "               Email  Unnamed: 9   Salary  \n",
      "7  gopi.ka@gmail.com         NaN  60796.0  \n",
      "0           NaN\n",
      "1     50.458458\n",
      "2     43.811812\n",
      "3     67.499499\n",
      "4     67.733734\n",
      "5     34.490490\n",
      "6     46.827828\n",
      "7     60.856857\n",
      "8     88.208208\n",
      "9     54.962963\n",
      "10    76.364364\n",
      "11    68.996997\n",
      "12    48.596597\n",
      "13    59.654655\n",
      "14    86.529530\n",
      "15    37.512513\n",
      "16    54.691692\n",
      "17    73.484484\n",
      "18    98.310310\n",
      "19    73.911912\n",
      "20    90.963964\n",
      "21    36.510511\n",
      "22    78.982983\n",
      "23    34.610611\n",
      "24    39.162162\n",
      "25    59.061061\n",
      "Name: Salary, dtype: float64\n"
     ]
    }
   ],
   "source": [
    "print(d.loc[d['Salary']==60796])\n",
    "df=d['Salary']/999\n",
    "print(df)"
   ]
  },
  {
   "cell_type": "code",
   "execution_count": null,
   "id": "04fa54d8",
   "metadata": {},
   "outputs": [],
   "source": []
  }
 ],
 "metadata": {
  "kernelspec": {
   "display_name": "Python 3 (ipykernel)",
   "language": "python",
   "name": "python3"
  },
  "language_info": {
   "codemirror_mode": {
    "name": "ipython",
    "version": 3
   },
   "file_extension": ".py",
   "mimetype": "text/x-python",
   "name": "python",
   "nbconvert_exporter": "python",
   "pygments_lexer": "ipython3",
   "version": "3.11.5"
  }
 },
 "nbformat": 4,
 "nbformat_minor": 5
}
