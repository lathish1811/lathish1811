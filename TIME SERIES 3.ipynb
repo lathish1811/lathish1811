{
 "cells": [
  {
   "cell_type": "code",
   "execution_count": 6,
   "id": "8156a91d-d089-4fa1-b7fb-dedef41d75ff",
   "metadata": {},
   "outputs": [
    {
     "name": "stdout",
     "output_type": "stream",
     "text": [
      "Date Index \n",
      " 2011-01-02   -1.313111\n",
      "2011-01-05    1.768441\n",
      "2011-01-07    0.218483\n",
      "2011-01-08   -0.495663\n",
      "2011-01-10   -1.183137\n",
      "2011-01-12   -0.116476\n",
      "dtype: float64\n"
     ]
    }
   ],
   "source": [
    "import pandas as pd\n",
    "import numpy as np\n",
    "from datetime import datetime\n",
    "dates = [datetime(2011, 1, 2),datetime(2011, 1, 5),datetime(2011, 1, 7),datetime(2011, 1, 8),datetime(2011, 1, 10),datetime(2011, 1, 12)]\n",
    "ts = pd.Series(np.random.randn(6), index=dates)\n",
    "print(\"Date Index \\n\",ts)"
   ]
  },
  {
   "cell_type": "code",
   "execution_count": 8,
   "id": "22746845-efdf-4d82-a6ac-3a772177269c",
   "metadata": {},
   "outputs": [
    {
     "name": "stdout",
     "output_type": "stream",
     "text": [
      "\n",
      "Date Index alone from the series: \n",
      " DatetimeIndex(['2011-01-02', '2011-01-05', '2011-01-07', '2011-01-08',\n",
      "               '2011-01-10', '2011-01-12'],\n",
      "              dtype='datetime64[ns]', freq=None)\n"
     ]
    }
   ],
   "source": [
    "print(\"\\nDate Index alone from the series: \\n\",ts.index)"
   ]
  },
  {
   "cell_type": "code",
   "execution_count": 10,
   "id": "556e00a3-97f6-4626-bbe6-1206ab214d66",
   "metadata": {},
   "outputs": [
    {
     "name": "stdout",
     "output_type": "stream",
     "text": [
      "\n",
      "Second index:\n",
      " 2011-01-07 00:00:00\n"
     ]
    }
   ],
   "source": [
    "stamp=ts.index[2]\n",
    "print(\"\\nSecond index:\\n\", stamp)"
   ]
  },
  {
   "cell_type": "code",
   "execution_count": 12,
   "id": "91e25a78-fb7a-4f33-b694-974f6214bdaa",
   "metadata": {},
   "outputs": [
    {
     "name": "stdout",
     "output_type": "stream",
     "text": [
      "\n",
      "Daterange up to 1000 days:\n",
      " 2000-01-01    1.014432\n",
      "2000-01-02   -1.283813\n",
      "2000-01-03   -0.968007\n",
      "2000-01-04   -0.640303\n",
      "2000-01-05    1.054721\n",
      "                ...   \n",
      "2002-09-22   -0.593023\n",
      "2002-09-23    0.754219\n",
      "2002-09-24    0.720207\n",
      "2002-09-25   -0.537934\n",
      "2002-09-26   -0.047488\n",
      "Freq: D, Length: 1000, dtype: float64\n"
     ]
    }
   ],
   "source": [
    "longer_ts=pd.Series(np.random.randn(1000),\n",
    "index=pd.date_range(\"2000-01-01\",periods=1000))\n",
    "print(\"\\nDaterange up to 1000 days:\\n\",longer_ts)"
   ]
  },
  {
   "cell_type": "code",
   "execution_count": 14,
   "id": "030c5c87-1771-4836-a63e-f471cddd69c6",
   "metadata": {},
   "outputs": [
    {
     "name": "stdout",
     "output_type": "stream",
     "text": [
      "\n",
      "Date range-2001 year:\n",
      " 2001-01-01   -2.723502\n",
      "2001-01-02    1.047179\n",
      "2001-01-03    0.467767\n",
      "2001-01-04    0.908006\n",
      "2001-01-05   -0.634527\n",
      "                ...   \n",
      "2001-12-27    0.370902\n",
      "2001-12-28    0.836520\n",
      "2001-12-29   -0.527410\n",
      "2001-12-30    1.995089\n",
      "2001-12-31    0.700403\n",
      "Freq: D, Length: 365, dtype: float64\n"
     ]
    }
   ],
   "source": [
    "print(\"\\nDate range-2001 year:\\n\", longer_ts[\"2001\"])"
   ]
  },
  {
   "cell_type": "code",
   "execution_count": 16,
   "id": "4a7048ee-b779-4a57-9347-17911aaec2de",
   "metadata": {},
   "outputs": [
    {
     "name": "stdout",
     "output_type": "stream",
     "text": [
      "\n",
      "Date range-05 month 2001 year:\n",
      " 2001-05-01   -1.131708\n",
      "2001-05-02    0.695649\n",
      "2001-05-03   -0.410665\n",
      "2001-05-04    0.767420\n",
      "2001-05-05    0.983661\n",
      "2001-05-06   -0.777742\n",
      "2001-05-07   -0.747732\n",
      "2001-05-08    0.364421\n",
      "2001-05-09   -0.509962\n",
      "2001-05-10    0.346861\n",
      "2001-05-11    1.009404\n",
      "2001-05-12   -0.149376\n",
      "2001-05-13    0.285434\n",
      "2001-05-14   -1.036450\n",
      "2001-05-15    0.629820\n",
      "2001-05-16   -0.003592\n",
      "2001-05-17   -0.140212\n",
      "2001-05-18    1.114225\n",
      "2001-05-19   -0.210657\n",
      "2001-05-20   -0.454365\n",
      "2001-05-21   -0.279013\n",
      "2001-05-22    1.140744\n",
      "2001-05-23   -0.006371\n",
      "2001-05-24    0.303542\n",
      "2001-05-25   -2.039587\n",
      "2001-05-26    1.444160\n",
      "2001-05-27    1.355270\n",
      "2001-05-28    1.669164\n",
      "2001-05-29   -0.238847\n",
      "2001-05-30    0.505912\n",
      "2001-05-31    0.060675\n",
      "Freq: D, dtype: float64\n"
     ]
    }
   ],
   "source": [
    "print(\"\\nDate range-05 month 2001 year:\\n\", longer_ts[\"2001-05\"])"
   ]
  },
  {
   "cell_type": "code",
   "execution_count": 18,
   "id": "6e5e49ee-eabb-448f-8d86-be76e2fec97e",
   "metadata": {},
   "outputs": [
    {
     "name": "stdout",
     "output_type": "stream",
     "text": [
      "\n",
      "Date range-first few dates in 2000 year:\n",
      " 2000-01-01    1.014432\n",
      "2000-01-02   -1.283813\n",
      "2000-01-03   -0.968007\n",
      "2000-01-04   -0.640303\n",
      "2000-01-05    1.054721\n",
      "Freq: D, dtype: float64\n"
     ]
    }
   ],
   "source": [
    "print(\"\\nDate range-first few dates in 2000 year:\\n\",longer_ts[\"2000\"].head())"
   ]
  },
  {
   "cell_type": "code",
   "execution_count": null,
   "id": "28e9d7e2-9e77-44b2-b38e-b506ce741cdc",
   "metadata": {},
   "outputs": [],
   "source": [
    "print(\\nDate range-first 15 dates in 02 month 2001 year:\\n\",longer_ts[&quot;2000-02&quot;].head(15))"
   ]
  }
 ],
 "metadata": {
  "kernelspec": {
   "display_name": "Python 3 (ipykernel)",
   "language": "python",
   "name": "python3"
  },
  "language_info": {
   "codemirror_mode": {
    "name": "ipython",
    "version": 3
   },
   "file_extension": ".py",
   "mimetype": "text/x-python",
   "name": "python",
   "nbconvert_exporter": "python",
   "pygments_lexer": "ipython3",
   "version": "3.12.7"
  }
 },
 "nbformat": 4,
 "nbformat_minor": 5
}
