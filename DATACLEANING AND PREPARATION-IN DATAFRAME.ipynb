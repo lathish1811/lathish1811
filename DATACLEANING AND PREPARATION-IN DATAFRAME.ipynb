{
 "cells": [
  {
   "cell_type": "code",
   "execution_count": 5,
   "id": "591e8c90",
   "metadata": {},
   "outputs": [
    {
     "name": "stdout",
     "output_type": "stream",
     "text": [
      "        one       two     three\n",
      "a -0.020946  1.837246 -0.804019\n",
      "b       NaN       NaN       NaN\n",
      "c  0.253938  0.776131 -0.823529\n",
      "d  0.275865  1.067303 -0.461346\n",
      "e       NaN       NaN       NaN\n",
      "f  2.134366 -0.499546 -0.271065\n"
     ]
    }
   ],
   "source": [
    "import pandas as pd\n",
    "import numpy as np\n",
    "df=pd.DataFrame(np.random.randn(4,3),index=['a','c','d','f'],columns=['one','two','three'])\n",
    "df=df.reindex(['a','b','c','d','e','f'])\n",
    "print(df)"
   ]
  },
  {
   "cell_type": "code",
   "execution_count": 6,
   "id": "ce9b60f7",
   "metadata": {},
   "outputs": [
    {
     "name": "stdout",
     "output_type": "stream",
     "text": [
      "        one       two     three\n",
      "a -0.020946  1.837246 -0.804019\n",
      "c  0.253938  0.776131 -0.823529\n",
      "d  0.275865  1.067303 -0.461346\n",
      "f  2.134366 -0.499546 -0.271065\n",
      "\n"
     ]
    }
   ],
   "source": [
    "print(df.dropna())\n",
    "print()"
   ]
  },
  {
   "cell_type": "code",
   "execution_count": 11,
   "id": "e724231f",
   "metadata": {},
   "outputs": [
    {
     "name": "stdout",
     "output_type": "stream",
     "text": [
      "        one       two     three\n",
      "a -0.020946  1.837246 -0.804019\n",
      "b  0.000000  0.000000  0.000000\n",
      "c  0.253938  0.776131 -0.823529\n",
      "d  0.275865  1.067303 -0.461346\n",
      "e  0.000000  0.000000  0.000000\n",
      "f  2.134366 -0.499546 -0.271065\n"
     ]
    }
   ],
   "source": [
    "print(df.fillna(0))"
   ]
  },
  {
   "cell_type": "code",
   "execution_count": 16,
   "id": "3398a2e9",
   "metadata": {},
   "outputs": [
    {
     "name": "stdout",
     "output_type": "stream",
     "text": [
      "   one  two\n",
      "0   10   60\n",
      "1   20   70\n",
      "2   30   80\n",
      "3   40    0\n",
      "4   50   10\n",
      "   one  two\n",
      "0    5   60\n",
      "1   20   70\n",
      "2   30    3\n",
      "3   40    0\n",
      "4   50    5\n",
      "\n"
     ]
    }
   ],
   "source": [
    "df=pd.DataFrame({'one':[10,20,30,40,50],'two':[60,70,80,0,10]})\n",
    "print(df)\n",
    "print(df.replace({10:5,80:3}))\n",
    "print()\n"
   ]
  },
  {
   "cell_type": "code",
   "execution_count": 17,
   "id": "dd301909",
   "metadata": {},
   "outputs": [
    {
     "name": "stdout",
     "output_type": "stream",
     "text": [
      "Original dataframe:\n",
      "         one       two     three\n",
      "a  0.619550 -0.892938  1.988233\n",
      "b       NaN       NaN       NaN\n",
      "c  0.229969  1.736977  0.703990\n",
      "d -0.196364  0.264691 -0.182211\n",
      "e       NaN       NaN       NaN\n",
      "f -0.592173 -0.656140  1.014112\n",
      "\n",
      " Non-with true fill:\n",
      "\n",
      "<bound method Series.isnull of a    0.619550\n",
      "b         NaN\n",
      "c    0.229969\n",
      "d   -0.196364\n",
      "e         NaN\n",
      "f   -0.592173\n",
      "Name: one, dtype: float64>\n"
     ]
    }
   ],
   "source": [
    "df=pd.DataFrame(np.random.randn(4,3),index=['a','c','d','f'],columns=['one','two','three'])\n",
    "df=df.reindex(['a','b','c','d','e','f'])\n",
    "print(\"Original dataframe:\\n\",df)\n",
    "print(\"\\n Non-with true fill:\\n\")\n",
    "print(df['one'].isnull)"
   ]
  },
  {
   "cell_type": "code",
   "execution_count": 20,
   "id": "c2eb4bd0",
   "metadata": {},
   "outputs": [
    {
     "name": "stdout",
     "output_type": "stream",
     "text": [
      "\n",
      " Non_filled with background values:\n",
      "\n",
      "        one       two     three\n",
      "a  0.619550 -0.892938  1.988233\n",
      "b  0.229969  1.736977  0.703990\n",
      "c  0.229969  1.736977  0.703990\n",
      "d -0.196364  0.264691 -0.182211\n",
      "e -0.592173 -0.656140  1.014112\n",
      "f -0.592173 -0.656140  1.014112\n"
     ]
    }
   ],
   "source": [
    "print(\"\\n Non_filled with background values:\\n\")\n",
    "print(df.fillna(method='bfill'))"
   ]
  },
  {
   "cell_type": "code",
   "execution_count": null,
   "id": "2efe5b6c",
   "metadata": {},
   "outputs": [],
   "source": []
  }
 ],
 "metadata": {
  "kernelspec": {
   "display_name": "Python 3 (ipykernel)",
   "language": "python",
   "name": "python3"
  },
  "language_info": {
   "codemirror_mode": {
    "name": "ipython",
    "version": 3
   },
   "file_extension": ".py",
   "mimetype": "text/x-python",
   "name": "python",
   "nbconvert_exporter": "python",
   "pygments_lexer": "ipython3",
   "version": "3.11.5"
  }
 },
 "nbformat": 4,
 "nbformat_minor": 5
}
